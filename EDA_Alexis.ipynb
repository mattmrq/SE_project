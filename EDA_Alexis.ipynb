{
 "cells": [
  {
   "cell_type": "code",
   "execution_count": 89,
   "metadata": {},
   "outputs": [],
   "source": [
    "import pandas as pd\n",
    "import matplotlib.pyplot as plt\n",
    "import numpy as np\n",
    "import seaborn as sns\n",
    "from pathlib import Path\n",
    "\n",
    "from sklearn.metrics import mean_squared_error, mean_absolute_error\n",
    "from statsmodels.tsa.seasonal import seasonal_decompose\n",
    "from statsmodels.tsa.stattools import adfuller\n",
    "from statsmodels.tsa.statespace.sarimax import SARIMAX"
   ]
  },
  {
   "cell_type": "code",
   "execution_count": 115,
   "metadata": {},
   "outputs": [],
   "source": [
    "df = pd.read_csv(Path.home() / \"Downloads/PA6_cleaned_dataset.csv\")"
   ]
  },
  {
   "cell_type": "markdown",
   "metadata": {},
   "source": [
    "## Pre Processing and Feature Engineering"
   ]
  },
  {
   "cell_type": "code",
   "execution_count": 144,
   "metadata": {},
   "outputs": [],
   "source": [
    "def get_processed_df():\n",
    "    df = pd.read_csv(Path.home() / \"Downloads/PA6_cleaned_dataset.csv\")\n",
    "    df['time'] = pd.to_datetime(df['time'])\n",
    "    df.dropna(subset=\"best_price_compound\", inplace=True)\n",
    "    df.fillna(method=\"ffill\", inplace=True)\n",
    "\n",
    "    # Perform seasonal decomposition\n",
    "    result = seasonal_decompose(df['best_price_compound'], model='additive', period=12)  # Adjust period based on seasonality\n",
    "\n",
    "    df['trend'] = result.trend\n",
    "    df['seasonal'] = result.seasonal\n",
    "    df['residual'] = result.resid\n",
    "\n",
    "    # Encode date\n",
    "    df['month'] = pd.to_datetime(df['time']).dt.month\n",
    "    df['quarter'] = df['time'].dt.quarter\n",
    "    df['year'] = df['time'].dt.year\n",
    "\n",
    "    # Feature Engineering: Lagged Variables, as shown in CapGemini class\n",
    "    df['best_price_compound_lag_1'] = df['best_price_compound'].shift(1)  # Lag of 1 month\n",
    "\n",
    "    rolling_window = 3 \n",
    "    df['rolling_mean'] = df['best_price_compound'].rolling(window=rolling_window).mean()\n",
    "    df['rolling_std'] = df['best_price_compound'].rolling(window=rolling_window).std()\n",
    "\n",
    "    # Feature Engineering: Seasonal Indicators\n",
    "    df['is_winter'] = df['month'].isin([12, 1, 2]).astype(int)\n",
    "    df['is_summer'] = df['month'].isin([6, 7, 8]).astype(int)\n",
    "    df['is_spring'] = df['month'].isin([3, 4, 5]).astype(int)\n",
    "    df['is_autumn'] = df['month'].isin([9, 10, 11]).astype(int)\n",
    "\n",
    "    # Feature Engineering: Difference Features\n",
    "    df['best_price_compound_diff_1'] = df['best_price_compound'] - df['best_price_compound'].shift(12)  # Assuming monthly data\n",
    "\n",
    "    return df\n",
    "\n",
    "\n",
    "def get_train_test_split():\n",
    "\n",
    "    df = get_processed_df()\n",
    "    df.fillna(method='backfill')\n",
    "    df.set_index(\"time\", inplace=True)\n",
    "    train = df[df.index < '2022-01-01']\n",
    "    test = df[df.index >= '2022-01-01']\n",
    "    y_train = train[\"best_price_compound\"]\n",
    "    y_test = test[\"best_price_compound\"]\n",
    "    X_train = train.drop(\"best_price_compound\", axis=1)\n",
    "    X_test = test.drop(\"best_price_compound\", axis=1)\n",
    "    return X_train, X_test, y_train, y_test"
   ]
  },
  {
   "cell_type": "code",
   "execution_count": 140,
   "metadata": {},
   "outputs": [],
   "source": [
    "df = get_processed_df()"
   ]
  },
  {
   "cell_type": "markdown",
   "metadata": {},
   "source": [
    "## SARIMA training and testing"
   ]
  },
  {
   "cell_type": "code",
   "execution_count": 137,
   "metadata": {},
   "outputs": [
    {
     "ename": "TypeError",
     "evalue": "Invalid comparison between dtype=int64 and str",
     "output_type": "error",
     "traceback": [
      "\u001b[1;31m---------------------------------------------------------------------------\u001b[0m",
      "\u001b[1;31mTypeError\u001b[0m                                 Traceback (most recent call last)",
      "\u001b[1;32mc:\\Users\\alexi\\OneDrive\\Bureau\\schneider\\SE_project\\EDA_Alexis.ipynb Cell 6\u001b[0m line \u001b[0;36m8\n\u001b[0;32m      <a href='vscode-notebook-cell:/c%3A/Users/alexi/OneDrive/Bureau/schneider/SE_project/EDA_Alexis.ipynb#X10sZmlsZQ%3D%3D?line=4'>5</a>\u001b[0m \u001b[39m#df.set_index(\"time\", inplace=True)\u001b[39;00m\n\u001b[0;32m      <a href='vscode-notebook-cell:/c%3A/Users/alexi/OneDrive/Bureau/schneider/SE_project/EDA_Alexis.ipynb#X10sZmlsZQ%3D%3D?line=5'>6</a>\u001b[0m df\u001b[39m.\u001b[39mindex\u001b[39m.\u001b[39mfreq \u001b[39m=\u001b[39m \u001b[39m'\u001b[39m\u001b[39mMS\u001b[39m\u001b[39m'\u001b[39m\n\u001b[1;32m----> <a href='vscode-notebook-cell:/c%3A/Users/alexi/OneDrive/Bureau/schneider/SE_project/EDA_Alexis.ipynb#X10sZmlsZQ%3D%3D?line=7'>8</a>\u001b[0m train \u001b[39m=\u001b[39m df[df\u001b[39m.\u001b[39;49mindex \u001b[39m<\u001b[39;49m \u001b[39m'\u001b[39;49m\u001b[39m2022-01-01\u001b[39;49m\u001b[39m'\u001b[39;49m]\n\u001b[0;32m      <a href='vscode-notebook-cell:/c%3A/Users/alexi/OneDrive/Bureau/schneider/SE_project/EDA_Alexis.ipynb#X10sZmlsZQ%3D%3D?line=8'>9</a>\u001b[0m test \u001b[39m=\u001b[39m df[df\u001b[39m.\u001b[39mindex \u001b[39m>\u001b[39m\u001b[39m=\u001b[39m \u001b[39m'\u001b[39m\u001b[39m2022-01-01\u001b[39m\u001b[39m'\u001b[39m]\n\u001b[0;32m     <a href='vscode-notebook-cell:/c%3A/Users/alexi/OneDrive/Bureau/schneider/SE_project/EDA_Alexis.ipynb#X10sZmlsZQ%3D%3D?line=9'>10</a>\u001b[0m y_train \u001b[39m=\u001b[39m train[\u001b[39m\"\u001b[39m\u001b[39mbest_price_compound\u001b[39m\u001b[39m\"\u001b[39m]\n",
      "File \u001b[1;32m~\\AppData\\Local\\Packages\\PythonSoftwareFoundation.Python.3.9_qbz5n2kfra8p0\\LocalCache\\local-packages\\Python39\\site-packages\\pandas\\core\\ops\\common.py:72\u001b[0m, in \u001b[0;36m_unpack_zerodim_and_defer.<locals>.new_method\u001b[1;34m(self, other)\u001b[0m\n\u001b[0;32m     68\u001b[0m             \u001b[39mreturn\u001b[39;00m \u001b[39mNotImplemented\u001b[39m\n\u001b[0;32m     70\u001b[0m other \u001b[39m=\u001b[39m item_from_zerodim(other)\n\u001b[1;32m---> 72\u001b[0m \u001b[39mreturn\u001b[39;00m method(\u001b[39mself\u001b[39;49m, other)\n",
      "File \u001b[1;32m~\\AppData\\Local\\Packages\\PythonSoftwareFoundation.Python.3.9_qbz5n2kfra8p0\\LocalCache\\local-packages\\Python39\\site-packages\\pandas\\core\\arraylike.py:50\u001b[0m, in \u001b[0;36mOpsMixin.__lt__\u001b[1;34m(self, other)\u001b[0m\n\u001b[0;32m     48\u001b[0m \u001b[39m@unpack_zerodim_and_defer\u001b[39m(\u001b[39m\"\u001b[39m\u001b[39m__lt__\u001b[39m\u001b[39m\"\u001b[39m)\n\u001b[0;32m     49\u001b[0m \u001b[39mdef\u001b[39;00m \u001b[39m__lt__\u001b[39m(\u001b[39mself\u001b[39m, other):\n\u001b[1;32m---> 50\u001b[0m     \u001b[39mreturn\u001b[39;00m \u001b[39mself\u001b[39;49m\u001b[39m.\u001b[39;49m_cmp_method(other, operator\u001b[39m.\u001b[39;49mlt)\n",
      "File \u001b[1;32m~\\AppData\\Local\\Packages\\PythonSoftwareFoundation.Python.3.9_qbz5n2kfra8p0\\LocalCache\\local-packages\\Python39\\site-packages\\pandas\\core\\indexes\\base.py:7025\u001b[0m, in \u001b[0;36mIndex._cmp_method\u001b[1;34m(self, other, op)\u001b[0m\n\u001b[0;32m   7023\u001b[0m \u001b[39melse\u001b[39;00m:\n\u001b[0;32m   7024\u001b[0m     \u001b[39mwith\u001b[39;00m np\u001b[39m.\u001b[39merrstate(\u001b[39mall\u001b[39m\u001b[39m=\u001b[39m\u001b[39m\"\u001b[39m\u001b[39mignore\u001b[39m\u001b[39m\"\u001b[39m):\n\u001b[1;32m-> 7025\u001b[0m         result \u001b[39m=\u001b[39m ops\u001b[39m.\u001b[39;49mcomparison_op(\u001b[39mself\u001b[39;49m\u001b[39m.\u001b[39;49m_values, other, op)\n\u001b[0;32m   7027\u001b[0m \u001b[39mreturn\u001b[39;00m result\n",
      "File \u001b[1;32m~\\AppData\\Local\\Packages\\PythonSoftwareFoundation.Python.3.9_qbz5n2kfra8p0\\LocalCache\\local-packages\\Python39\\site-packages\\pandas\\core\\ops\\array_ops.py:284\u001b[0m, in \u001b[0;36mcomparison_op\u001b[1;34m(left, right, op)\u001b[0m\n\u001b[0;32m    280\u001b[0m         res_values \u001b[39m=\u001b[39m np\u001b[39m.\u001b[39mzeros(lvalues\u001b[39m.\u001b[39mshape, dtype\u001b[39m=\u001b[39m\u001b[39mbool\u001b[39m)\n\u001b[0;32m    282\u001b[0m \u001b[39melif\u001b[39;00m is_numeric_v_string_like(lvalues, rvalues):\n\u001b[0;32m    283\u001b[0m     \u001b[39m# GH#36377 going through the numexpr path would incorrectly raise\u001b[39;00m\n\u001b[1;32m--> 284\u001b[0m     \u001b[39mreturn\u001b[39;00m invalid_comparison(lvalues, rvalues, op)\n\u001b[0;32m    286\u001b[0m \u001b[39melif\u001b[39;00m is_object_dtype(lvalues\u001b[39m.\u001b[39mdtype) \u001b[39mor\u001b[39;00m \u001b[39misinstance\u001b[39m(rvalues, \u001b[39mstr\u001b[39m):\n\u001b[0;32m    287\u001b[0m     res_values \u001b[39m=\u001b[39m comp_method_OBJECT_ARRAY(op, lvalues, rvalues)\n",
      "File \u001b[1;32m~\\AppData\\Local\\Packages\\PythonSoftwareFoundation.Python.3.9_qbz5n2kfra8p0\\LocalCache\\local-packages\\Python39\\site-packages\\pandas\\core\\ops\\invalid.py:36\u001b[0m, in \u001b[0;36minvalid_comparison\u001b[1;34m(left, right, op)\u001b[0m\n\u001b[0;32m     34\u001b[0m \u001b[39melse\u001b[39;00m:\n\u001b[0;32m     35\u001b[0m     typ \u001b[39m=\u001b[39m \u001b[39mtype\u001b[39m(right)\u001b[39m.\u001b[39m\u001b[39m__name__\u001b[39m\n\u001b[1;32m---> 36\u001b[0m     \u001b[39mraise\u001b[39;00m \u001b[39mTypeError\u001b[39;00m(\u001b[39mf\u001b[39m\u001b[39m\"\u001b[39m\u001b[39mInvalid comparison between dtype=\u001b[39m\u001b[39m{\u001b[39;00mleft\u001b[39m.\u001b[39mdtype\u001b[39m}\u001b[39;00m\u001b[39m and \u001b[39m\u001b[39m{\u001b[39;00mtyp\u001b[39m}\u001b[39;00m\u001b[39m\"\u001b[39m)\n\u001b[0;32m     37\u001b[0m \u001b[39mreturn\u001b[39;00m res_values\n",
      "\u001b[1;31mTypeError\u001b[0m: Invalid comparison between dtype=int64 and str"
     ]
    }
   ],
   "source": [
    "import pandas as pd\n",
    "from statsmodels.tsa.statespace.sarimax import SARIMAX\n",
    "import matplotlib.pyplot as plt\n",
    "\n",
    "#df.set_index(\"time\", inplace=True)\n",
    "df.index.freq = 'MS'\n",
    "\n",
    "train = df[df.index < '2022-01-01']\n",
    "test = df[df.index >= '2022-01-01']\n",
    "y_train = train[\"best_price_compound\"]\n",
    "y_test = test[\"best_price_compound\"]\n",
    "X_train = train.drop(\"best_price_compound\", axis=1)\n",
    "X_test = test.drop(\"best_price_compound\", axis=1)\n",
    "\n",
    "# Specify the order and seasonal_order based on your analysis\n",
    "order = (1, 1, 1)  # Example order (p, d, q)\n",
    "seasonal_order = (1, 1, 1, 12)  # Example seasonal_order (P, D, Q, s)\n",
    "\n",
    "# Create and fit the SARIMAX model\n",
    "sarimax_model = SARIMAX(endog=y_train, exog=X_train[\"residual\"], order=order, seasonal_order=seasonal_order)\n",
    "sarimax_result = sarimax_model.fit()\n",
    "\n",
    "# Make predictions on the test set\n",
    "predictions = sarimax_result.get_forecast(steps=len(test), exog=X_test[\"residual\"])\n",
    "predicted_values = predictions.predicted_mean\n",
    "\n",
    "# Plot actual vs. predicted values\n",
    "plt.figure(figsize=(12, 6))\n",
    "plt.plot(train.index, y_train.values, label='Train')\n",
    "plt.plot(test.index, y_test.values, label='Test')\n",
    "plt.plot(test.index, predicted_values, label='Predicted', color='red')\n",
    "plt.legend()\n",
    "plt.show()\n"
   ]
  },
  {
   "cell_type": "markdown",
   "metadata": {},
   "source": [
    "### Not enough data for SARIMAX. Test with tree data"
   ]
  },
  {
   "cell_type": "markdown",
   "metadata": {},
   "source": [
    "### XGB Model"
   ]
  },
  {
   "cell_type": "markdown",
   "metadata": {},
   "source": [
    "Split train/test"
   ]
  },
  {
   "cell_type": "code",
   "execution_count": 73,
   "metadata": {},
   "outputs": [],
   "source": [
    "X = df.drop([\"best_price_compound\", \"time\"], axis=1).copy()\n",
    "y = df[\"best_price_compound\"].copy()\n",
    "\n",
    "X_train = df.query(\"time < '2021-01-01'\").drop([\"time\", \"best_price_compound\"], axis=1)\n",
    "X_test = df.query(\"time >= '2021-01-01'\").drop([\"time\", \"best_price_compound\"], axis=1)\n",
    "\n",
    "y_train = df.query(\"time < '2021-01-01'\")[\"best_price_compound\"]\n",
    "y_test = df.query(\"time >= '2021-01-01'\")[\"best_price_compound\"]"
   ]
  },
  {
   "cell_type": "markdown",
   "metadata": {},
   "source": [
    "Randomized search for hyperparameter thuning"
   ]
  },
  {
   "cell_type": "code",
   "execution_count": 78,
   "metadata": {},
   "outputs": [],
   "source": [
    "import numpy as np\n",
    "import pandas as pd\n",
    "from xgboost import XGBRegressor\n",
    "from sklearn.model_selection import RandomizedSearchCV, TimeSeriesSplit\n",
    "from sklearn.metrics import mean_squared_error\n",
    "\n",
    "\n",
    "# Initialize an XGBoost model\n",
    "model = XGBRegressor(random_state=42, n_jobs=-1)\n",
    "\n",
    "# Define the hyperparameter grid for randomized search\n",
    "param_dist = {\n",
    "    'n_estimators': np.arange(100, 1000, 50),\n",
    "    'max_depth': np.arange(3, 10),\n",
    "    'learning_rate': np.logspace(-5, 0, num=100),\n",
    "    'subsample': np.arange(0.5, 1.0, 0.1),\n",
    "    'colsample_bytree': np.arange(0.5, 1.0, 0.1),\n",
    "}\n",
    "\n",
    "# Perform randomized search for hyperparameter tuning\n",
    "random_search = RandomizedSearchCV(\n",
    "    model, param_distributions=param_dist, n_iter=50, scoring='neg_mean_squared_error', cv=5, random_state=42, n_jobs=-1\n",
    ")\n",
    "\n",
    "# Fit the randomized search model on the training data\n",
    "random_search.fit(X_train, y_train)\n",
    "\n",
    "# Get the best hyperparameters from the search\n",
    "best_params = random_search.best_params_"
   ]
  },
  {
   "cell_type": "markdown",
   "metadata": {},
   "source": [
    "Compare two different XGB: one trained on tscv, the other trained on standard xtrain and xtest (is hp tuning still relevant if model is trained on tscv ?)"
   ]
  },
  {
   "cell_type": "code",
   "execution_count": 83,
   "metadata": {},
   "outputs": [
    {
     "name": "stdout",
     "output_type": "stream",
     "text": [
      "Mean Squared Error during tscv: 5555.752244937454\n",
      "Mean Squared Error during tscv: 38942.48387119662\n",
      "Mean Squared Error during tscv: 56452.10092933811\n",
      "Mean Squared Error during tscv: 121577.02312411644\n",
      "Mean Squared Error during tscv: 42438.160608338745\n",
      "Best Hyperparameters: {'subsample': 0.8999999999999999, 'n_estimators': 550, 'max_depth': 5, 'learning_rate': 0.10974987654930568, 'colsample_bytree': 0.7999999999999999}\n",
      "Mean Squared Error on Test Set: 42438.160608338745\n",
      "Mean Squared Error on Test Set tcsv model: 42438.160608338745\n"
     ]
    }
   ],
   "source": [
    "#\n",
    "model_tscv = XGBRegressor(**best_params, random_state=42, n_jobs=-1)\n",
    "model = XGBRegressor(**best_params, random_state=42, n_jobs=-1)\n",
    "\n",
    "# Create a time series split iterator\n",
    "tscv = TimeSeriesSplit(n_splits=5)\n",
    "\n",
    "# Iterate through the splits and train the model\n",
    "for train_index, test_index in tscv.split(X):\n",
    "    X_train, X_test = X.iloc[train_index], X.iloc[test_index]\n",
    "    y_train, y_test = y.iloc[train_index], y.iloc[test_index]\n",
    "\n",
    "    # Train the XGBoost model on the training data\n",
    "    model_tscv.fit(X_train, y_train)\n",
    "\n",
    "    # Make predictions on the test set\n",
    "    y_pred_ = model_tscv.predict(X_test)\n",
    "\n",
    "    # Evaluate the model's performance\n",
    "    mse = mean_squared_error(y_test, y_pred_)\n",
    "    print(f'Mean Squared Error during tscv: {mse}')\n",
    "\n",
    "model.fit(X_train, y_train)\n",
    "\n",
    "# Evaluate on the test set\n",
    "y_pred_tscv = model_tscv.predict(X_test)\n",
    "mse_tscv = mean_squared_error(y_test, y_pred_tscv)\n",
    "\n",
    "y_pred = model.predict(X_test)\n",
    "mse = mean_squared_error(y_test, y_pred)\n",
    "\n",
    "print(f'Best Hyperparameters: {best_params}')\n",
    "print(f'Mean Squared Error on Test Set: {mse}')\n",
    "print(f'Mean Squared Error on Test Set tcsv model: {mse_tscv}')"
   ]
  }
 ],
 "metadata": {
  "kernelspec": {
   "display_name": "SE_env",
   "language": "python",
   "name": "python3"
  },
  "language_info": {
   "codemirror_mode": {
    "name": "ipython",
    "version": 3
   },
   "file_extension": ".py",
   "mimetype": "text/x-python",
   "name": "python",
   "nbconvert_exporter": "python",
   "pygments_lexer": "ipython3",
   "version": "3.9.13"
  }
 },
 "nbformat": 4,
 "nbformat_minor": 2
}
